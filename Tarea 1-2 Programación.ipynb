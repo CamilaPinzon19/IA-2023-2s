{
 "cells": [
  {
   "cell_type": "markdown",
   "id": "6fa76c47-16e4-4a11-8994-53568a45dbe9",
   "metadata": {},
   "source": [
    "## Tarea 1 - Programación\n",
    "### Camila Alejandra Pinzón Caro"
   ]
  },
  {
   "cell_type": "markdown",
   "id": "c9ebc436-7daa-4414-9bf5-b51837ef5c58",
   "metadata": {},
   "source": [
    "3. Escriba una clase con las siguientes funcionalidades:\n",
    "\n",
    "   3.1 Al instanciar un objeto, lee un conjunto de datos numéricos. Por ejemplo puede usar el mismo conjunto de datos iris.csv. Instancie los datos en un dataframe de Pandas.\n",
    "\n",
    "   3.2 Implemente un método que calcule las estadísticas descriptivas básicas de cada una de las variables (sepal.length, sepal.width, petal.length, etc)\n",
    "\n",
    "   3.3 Implemente un método que entregue los nombre de las variables disponibles.\n",
    "\n",
    "   3.4 Implemente un método que reciba el nombre de una variable disponible dentro del objeto (en el dataframe) y regrese: sus estadísticas básicas: media, mediana, desviación, percentiles q25, q50, q75 y dibuje un histograma de la distribución de la variable."
   ]
  },
  {
   "cell_type": "code",
   "execution_count": null,
   "id": "df99ca62-daa9-47b7-8027-0ddb095625aa",
   "metadata": {},
   "outputs": [],
   "source": [
    "# Se crgan las bases de datos\n",
    "import pandas as pd\n",
    "import numpy as np\n",
    "import matplotlib.pyplot as plt\n",
    "\n",
    "# Base de datos importada\n",
    "iris = pd.read_csv(\"iris.csv\")\n",
    "iris.head()"
   ]
  },
  {
   "cell_type": "code",
   "execution_count": 114,
   "id": "905a3053-7211-4b8d-ac11-051253f3e438",
   "metadata": {},
   "outputs": [],
   "source": [
    "class ClaseDescriptiva:\n",
    "    \n",
    "    # leer la base de datos e instanciarlos en un df\n",
    "    def __init__(self,data):\n",
    "        self.base = pd.read_csv(data) \n",
    "            \n",
    "    # estadisticas basicas por defecto\n",
    "    def statsbasicas(self):\n",
    "        return self.base.describe()\n",
    "    \n",
    "    # devolver las variables disponibles\n",
    "    def variables(self):\n",
    "        return self.base.columns.tolist()\n",
    "    \n",
    "    # analisis descriptivo personalizado\n",
    "    def analisis_var(self, nombre):\n",
    "        var_numericas = self.base.select_dtypes(include=['number'])\n",
    "        if nombre in self.base.columns and nombre in var_numericas.columns:\n",
    "            variable = self.base[nombre]\n",
    "            # Estadisticas basicas\n",
    "            media = variable.mean()\n",
    "            mediana = variable.median()\n",
    "            desviacion = variable.std()\n",
    "            q25 = variable.quantile(0.25)\n",
    "            q75 = variable.quantile(0.75)\n",
    "            \n",
    "            # Histograma\n",
    "            plt.hist(variable, bins = 18, color=\"#00BFBF\")\n",
    "            plt.title(f'Histograma de la variable {nombre}, de la base de datos iris')\n",
    "            plt.xlabel(nombre)\n",
    "            plt.ylabel('Frecuencia')\n",
    "            plt.show()\n",
    "            \n",
    "            return {\n",
    "                'Media': media,\n",
    "                'Mediana': mediana,\n",
    "                'Desviación Estándar': desviacion,\n",
    "                'Percentil 25': q25,\n",
    "                'Percentil 50': mediana,\n",
    "                'Percentil 75': q75\n",
    "            }\n",
    "        else:\n",
    "            return f'¡ERROR!\\nNo es posible realizar el análisis descriptivo.\\nLa variable \"{nombre}\" no existe en el conjunto de datos, o no es de tipo numérico. \\nRevisela'\n",
    "    "
   ]
  },
  {
   "cell_type": "code",
   "execution_count": 115,
   "id": "2e68c7b2-61e4-4781-8326-22f348f8e7b6",
   "metadata": {},
   "outputs": [
    {
     "name": "stdout",
     "output_type": "stream",
     "text": [
      "               Id  SepalLengthCm  SepalWidthCm  PetalLengthCm  PetalWidthCm\n",
      "count  150.000000     150.000000    150.000000     150.000000    150.000000\n",
      "mean    75.500000       5.843333      3.054000       3.758667      1.198667\n",
      "std     43.445368       0.828066      0.433594       1.764420      0.763161\n",
      "min      1.000000       4.300000      2.000000       1.000000      0.100000\n",
      "25%     38.250000       5.100000      2.800000       1.600000      0.300000\n",
      "50%     75.500000       5.800000      3.000000       4.350000      1.300000\n",
      "75%    112.750000       6.400000      3.300000       5.100000      1.800000\n",
      "max    150.000000       7.900000      4.400000       6.900000      2.500000\n",
      "['Id', 'SepalLengthCm', 'SepalWidthCm', 'PetalLengthCm', 'PetalWidthCm', 'Species']\n"
     ]
    },
    {
     "data": {
      "image/png": "[encoded data removed]",
      "text/plain": [
       "<Figure size 640x480 with 1 Axes>"
      ]
     },
     "metadata": {},
     "output_type": "display_data"
    },
    {
     "name": "stdout",
     "output_type": "stream",
     "text": [
      "{'Media': 5.843333333333334, 'Mediana': 5.8, 'Desviación Estándar': 0.8280661279778629, 'Percentil 25': 5.1, 'Percentil 50': 5.8, 'Percentil 75': 6.4}\n",
      "¡ERROR!\n",
      "No es posible realizar el análisis descriptivo.\n",
      "La variable \"Hola\" no existe en el conjunto de datos, o no es de tipo numérico. \n",
      "Revisela\n"
     ]
    }
   ],
   "source": [
    "# Prueba de la clase y de sus distintos métodos\n",
    "\n",
    "analisis_iris = ClaseDescriptiva(\"iris.csv\")\n",
    "\n",
    "# prueba del análsis básico\n",
    "print(analisis_iris.statsbasicas() )\n",
    "\n",
    "# prueba de las variables visponibles\n",
    "print(analisis_iris.variables() )\n",
    "\n",
    "# prueba del analisis descrptivo personalizado\n",
    "print(analisis_iris.analisis_var(\"SepalLengthCm\") )\n",
    "print(analisis_iris.analisis_var(\"Hola\") )"
   ]
  }
 ],
 "metadata": {
  "kernelspec": {
   "display_name": "Python 3 (ipykernel)",
   "language": "python",
   "name": "python3"
  },
  "language_info": {
   "codemirror_mode": {
    "name": "ipython",
    "version": 3
   },
   "file_extension": ".py",
   "mimetype": "text/x-python",
   "name": "python",
   "nbconvert_exporter": "python",
   "pygments_lexer": "ipython3",
   "version": "3.10.9"
  }
 },
 "nbformat": 4,
 "nbformat_minor": 5
}
