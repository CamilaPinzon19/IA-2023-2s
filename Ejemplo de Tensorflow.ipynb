{
 "cells": [
  {
   "cell_type": "markdown",
   "id": "ab12bdd3-786a-45d9-8e19-26fdfd24cc63",
   "metadata": {},
   "source": [
    "# Jugando con redes neuronales\n",
    "## Tensorflow - Playground\n",
    "### Camila Alejandra Pinzón Caro"
   ]
  },
  {
   "cell_type": "code",
   "execution_count": 10,
   "id": "89d56fac-77cd-4d52-b044-3d74b53a7dbd",
   "metadata": {},
   "outputs": [],
   "source": [
    "import numpy as np\n",
    "import matplotlib.pyplot as plt\n",
    "import tensorflow as tf\n",
    "from sklearn.datasets import make_circles\n",
    "from sklearn.model_selection import train_test_split\n",
    "from tensorflow.keras.models import Sequential\n",
    "from tensorflow.keras.layers import Dense"
   ]
  },
  {
   "cell_type": "markdown",
   "id": "e7ca158e-4f81-468f-945b-9fddb9f97815",
   "metadata": {},
   "source": [
    "Se ejemplifica el problema de clasificación para datos circulares (análogo al primero que se muestra en la página)"
   ]
  },
  {
   "cell_type": "code",
   "execution_count": 23,
   "id": "9382c331-ea4c-4136-a4c4-5972f5f5cde0",
   "metadata": {},
   "outputs": [],
   "source": [
    "# Generar un conjunto de datos de dos círculos similar al Playground de TensorFlow\n",
    "X, y = make_circles(n_samples=1000, noise=0.1, factor=0.4, random_state=0)\n",
    "X_train, X_test, y_train, y_test = train_test_split(X, y, test_size=0.2, random_state=0)"
   ]
  },
  {
   "cell_type": "code",
   "execution_count": 15,
   "id": "9bf8363a-8bcd-4106-8328-818b7d1d8739",
   "metadata": {},
   "outputs": [
    {
     "data": {
      "text/plain": [
       "1000"
      ]
     },
     "execution_count": 15,
     "metadata": {},
     "output_type": "execute_result"
    }
   ],
   "source": [
    "len(X)"
   ]
  },
  {
   "cell_type": "code",
   "execution_count": 16,
   "id": "02a05e36-4ac7-4cba-b7ca-6f1aa0bb7f57",
   "metadata": {},
   "outputs": [],
   "source": [
    "# Crear un modelo de red neuronal\n",
    "\n",
    "model = Sequential() # modelo secuencial\n",
    "model.add(Dense(4, input_dim=2, activation='tanh')) # capa oculta de 4 neuronas\n",
    "model.add(Dense(1, activation='sigmoid')) # capa de salida"
   ]
  },
  {
   "cell_type": "code",
   "execution_count": 17,
   "id": "ce3edb22-9ba6-47e4-a0e8-84c6497461ad",
   "metadata": {},
   "outputs": [],
   "source": [
    "# Compilar el modelo\n",
    "model.compile(loss='binary_crossentropy', optimizer='adam', metrics=['accuracy'])\n",
    "# se usa la funcion de perdida de entropía cruzada ya que se está en un\n",
    "# ejemplo de clasificación"
   ]
  },
  {
   "cell_type": "code",
   "execution_count": 18,
   "id": "5cc20e00-f706-4b36-8948-05d3e870b628",
   "metadata": {},
   "outputs": [
    {
     "name": "stdout",
     "output_type": "stream",
     "text": [
      "Epoch 1/100\n",
      "25/25 [==============================] - 3s 36ms/step - loss: 0.7054 - accuracy: 0.5025 - val_loss: 0.7067 - val_accuracy: 0.5000\n",
      "Epoch 2/100\n",
      "25/25 [==============================] - 0s 10ms/step - loss: 0.7026 - accuracy: 0.5113 - val_loss: 0.7036 - val_accuracy: 0.5050\n",
      "Epoch 3/100\n",
      "25/25 [==============================] - 0s 10ms/step - loss: 0.7001 - accuracy: 0.5150 - val_loss: 0.7003 - val_accuracy: 0.5050\n",
      "Epoch 4/100\n",
      "25/25 [==============================] - 0s 9ms/step - loss: 0.6978 - accuracy: 0.5250 - val_loss: 0.6981 - val_accuracy: 0.5100\n",
      "Epoch 5/100\n",
      "25/25 [==============================] - 0s 12ms/step - loss: 0.6960 - accuracy: 0.5337 - val_loss: 0.6957 - val_accuracy: 0.5300\n",
      "Epoch 6/100\n",
      "25/25 [==============================] - 0s 10ms/step - loss: 0.6943 - accuracy: 0.5350 - val_loss: 0.6940 - val_accuracy: 0.5300\n",
      "Epoch 7/100\n",
      "25/25 [==============================] - 0s 9ms/step - loss: 0.6928 - accuracy: 0.5475 - val_loss: 0.6921 - val_accuracy: 0.5400\n",
      "Epoch 8/100\n",
      "25/25 [==============================] - 0s 10ms/step - loss: 0.6916 - accuracy: 0.5587 - val_loss: 0.6903 - val_accuracy: 0.5600\n",
      "Epoch 9/100\n",
      "25/25 [==============================] - 0s 10ms/step - loss: 0.6903 - accuracy: 0.5688 - val_loss: 0.6888 - val_accuracy: 0.5850\n",
      "Epoch 10/100\n",
      "25/25 [==============================] - 0s 11ms/step - loss: 0.6891 - accuracy: 0.5788 - val_loss: 0.6876 - val_accuracy: 0.5900\n",
      "Epoch 11/100\n",
      "25/25 [==============================] - 0s 13ms/step - loss: 0.6882 - accuracy: 0.5913 - val_loss: 0.6866 - val_accuracy: 0.6100\n",
      "Epoch 12/100\n",
      "25/25 [==============================] - 0s 11ms/step - loss: 0.6872 - accuracy: 0.6150 - val_loss: 0.6854 - val_accuracy: 0.6300\n",
      "Epoch 13/100\n",
      "25/25 [==============================] - 0s 8ms/step - loss: 0.6862 - accuracy: 0.6450 - val_loss: 0.6840 - val_accuracy: 0.6400\n",
      "Epoch 14/100\n",
      "25/25 [==============================] - 0s 9ms/step - loss: 0.6853 - accuracy: 0.6488 - val_loss: 0.6830 - val_accuracy: 0.6400\n",
      "Epoch 15/100\n",
      "25/25 [==============================] - 0s 10ms/step - loss: 0.6845 - accuracy: 0.6600 - val_loss: 0.6818 - val_accuracy: 0.6450\n",
      "Epoch 16/100\n",
      "25/25 [==============================] - 0s 11ms/step - loss: 0.6834 - accuracy: 0.6600 - val_loss: 0.6807 - val_accuracy: 0.6650\n",
      "Epoch 17/100\n",
      "25/25 [==============================] - 0s 15ms/step - loss: 0.6826 - accuracy: 0.6513 - val_loss: 0.6795 - val_accuracy: 0.6550\n",
      "Epoch 18/100\n",
      "25/25 [==============================] - 0s 10ms/step - loss: 0.6816 - accuracy: 0.6450 - val_loss: 0.6783 - val_accuracy: 0.6550\n",
      "Epoch 19/100\n",
      "25/25 [==============================] - 0s 9ms/step - loss: 0.6807 - accuracy: 0.6375 - val_loss: 0.6772 - val_accuracy: 0.6550\n",
      "Epoch 20/100\n",
      "25/25 [==============================] - 1s 25ms/step - loss: 0.6796 - accuracy: 0.6375 - val_loss: 0.6762 - val_accuracy: 0.6600\n",
      "Epoch 21/100\n",
      "25/25 [==============================] - 0s 13ms/step - loss: 0.6786 - accuracy: 0.6363 - val_loss: 0.6752 - val_accuracy: 0.6600\n",
      "Epoch 22/100\n",
      "25/25 [==============================] - 0s 9ms/step - loss: 0.6775 - accuracy: 0.6325 - val_loss: 0.6737 - val_accuracy: 0.6500\n",
      "Epoch 23/100\n",
      "25/25 [==============================] - 0s 9ms/step - loss: 0.6764 - accuracy: 0.6263 - val_loss: 0.6724 - val_accuracy: 0.6500\n",
      "Epoch 24/100\n",
      "25/25 [==============================] - 0s 7ms/step - loss: 0.6753 - accuracy: 0.6263 - val_loss: 0.6711 - val_accuracy: 0.6500\n",
      "Epoch 25/100\n",
      "25/25 [==============================] - 0s 10ms/step - loss: 0.6741 - accuracy: 0.6263 - val_loss: 0.6698 - val_accuracy: 0.6500\n",
      "Epoch 26/100\n",
      "25/25 [==============================] - 0s 15ms/step - loss: 0.6729 - accuracy: 0.6150 - val_loss: 0.6684 - val_accuracy: 0.6500\n",
      "Epoch 27/100\n",
      "25/25 [==============================] - 0s 9ms/step - loss: 0.6716 - accuracy: 0.6187 - val_loss: 0.6671 - val_accuracy: 0.6550\n",
      "Epoch 28/100\n",
      "25/25 [==============================] - 0s 9ms/step - loss: 0.6703 - accuracy: 0.6150 - val_loss: 0.6656 - val_accuracy: 0.6550\n",
      "Epoch 29/100\n",
      "25/25 [==============================] - 0s 14ms/step - loss: 0.6689 - accuracy: 0.6237 - val_loss: 0.6642 - val_accuracy: 0.6500\n",
      "Epoch 30/100\n",
      "25/25 [==============================] - 0s 12ms/step - loss: 0.6675 - accuracy: 0.6150 - val_loss: 0.6621 - val_accuracy: 0.6450\n",
      "Epoch 31/100\n",
      "25/25 [==============================] - 0s 10ms/step - loss: 0.6658 - accuracy: 0.6162 - val_loss: 0.6607 - val_accuracy: 0.6500\n",
      "Epoch 32/100\n",
      "25/25 [==============================] - 0s 11ms/step - loss: 0.6643 - accuracy: 0.6187 - val_loss: 0.6588 - val_accuracy: 0.6550\n",
      "Epoch 33/100\n",
      "25/25 [==============================] - 0s 15ms/step - loss: 0.6627 - accuracy: 0.6263 - val_loss: 0.6571 - val_accuracy: 0.6550\n",
      "Epoch 34/100\n",
      "25/25 [==============================] - 0s 7ms/step - loss: 0.6610 - accuracy: 0.6575 - val_loss: 0.6556 - val_accuracy: 0.7150\n",
      "Epoch 35/100\n",
      "25/25 [==============================] - 0s 10ms/step - loss: 0.6594 - accuracy: 0.6650 - val_loss: 0.6532 - val_accuracy: 0.7000\n",
      "Epoch 36/100\n",
      "25/25 [==============================] - 0s 10ms/step - loss: 0.6574 - accuracy: 0.6837 - val_loss: 0.6513 - val_accuracy: 0.7050\n",
      "Epoch 37/100\n",
      "25/25 [==============================] - 0s 12ms/step - loss: 0.6555 - accuracy: 0.7138 - val_loss: 0.6496 - val_accuracy: 0.7600\n",
      "Epoch 38/100\n",
      "25/25 [==============================] - 0s 7ms/step - loss: 0.6536 - accuracy: 0.7387 - val_loss: 0.6476 - val_accuracy: 0.7850\n",
      "Epoch 39/100\n",
      "25/25 [==============================] - 0s 7ms/step - loss: 0.6515 - accuracy: 0.7450 - val_loss: 0.6452 - val_accuracy: 0.7750\n",
      "Epoch 40/100\n",
      "25/25 [==============================] - 0s 7ms/step - loss: 0.6495 - accuracy: 0.7462 - val_loss: 0.6429 - val_accuracy: 0.7950\n",
      "Epoch 41/100\n",
      "25/25 [==============================] - 0s 7ms/step - loss: 0.6474 - accuracy: 0.7613 - val_loss: 0.6411 - val_accuracy: 0.8050\n",
      "Epoch 42/100\n",
      "25/25 [==============================] - 0s 9ms/step - loss: 0.6452 - accuracy: 0.7575 - val_loss: 0.6384 - val_accuracy: 0.8000\n",
      "Epoch 43/100\n",
      "25/25 [==============================] - 0s 7ms/step - loss: 0.6429 - accuracy: 0.7700 - val_loss: 0.6365 - val_accuracy: 0.8100\n",
      "Epoch 44/100\n",
      "25/25 [==============================] - 0s 7ms/step - loss: 0.6406 - accuracy: 0.7738 - val_loss: 0.6337 - val_accuracy: 0.8050\n",
      "Epoch 45/100\n",
      "25/25 [==============================] - 0s 16ms/step - loss: 0.6381 - accuracy: 0.7825 - val_loss: 0.6318 - val_accuracy: 0.8200\n",
      "Epoch 46/100\n",
      "25/25 [==============================] - 0s 7ms/step - loss: 0.6357 - accuracy: 0.7825 - val_loss: 0.6289 - val_accuracy: 0.8150\n",
      "Epoch 47/100\n",
      "25/25 [==============================] - 0s 8ms/step - loss: 0.6331 - accuracy: 0.7862 - val_loss: 0.6266 - val_accuracy: 0.8200\n",
      "Epoch 48/100\n",
      "25/25 [==============================] - 0s 11ms/step - loss: 0.6305 - accuracy: 0.7925 - val_loss: 0.6243 - val_accuracy: 0.8300\n",
      "Epoch 49/100\n",
      "25/25 [==============================] - 0s 8ms/step - loss: 0.6279 - accuracy: 0.7950 - val_loss: 0.6215 - val_accuracy: 0.8300\n",
      "Epoch 50/100\n",
      "25/25 [==============================] - 0s 9ms/step - loss: 0.6251 - accuracy: 0.7937 - val_loss: 0.6185 - val_accuracy: 0.8300\n",
      "Epoch 51/100\n",
      "25/25 [==============================] - 0s 7ms/step - loss: 0.6224 - accuracy: 0.7937 - val_loss: 0.6158 - val_accuracy: 0.8250\n",
      "Epoch 52/100\n",
      "25/25 [==============================] - 0s 13ms/step - loss: 0.6196 - accuracy: 0.7950 - val_loss: 0.6131 - val_accuracy: 0.8250\n",
      "Epoch 53/100\n",
      "25/25 [==============================] - 0s 9ms/step - loss: 0.6167 - accuracy: 0.7987 - val_loss: 0.6099 - val_accuracy: 0.8250\n",
      "Epoch 54/100\n",
      "25/25 [==============================] - 0s 11ms/step - loss: 0.6138 - accuracy: 0.8037 - val_loss: 0.6072 - val_accuracy: 0.8250\n",
      "Epoch 55/100\n",
      "25/25 [==============================] - 0s 9ms/step - loss: 0.6109 - accuracy: 0.8050 - val_loss: 0.6041 - val_accuracy: 0.8250\n",
      "Epoch 56/100\n",
      "25/25 [==============================] - 0s 10ms/step - loss: 0.6078 - accuracy: 0.8037 - val_loss: 0.6011 - val_accuracy: 0.8250\n",
      "Epoch 57/100\n",
      "25/25 [==============================] - 0s 11ms/step - loss: 0.6049 - accuracy: 0.8050 - val_loss: 0.5981 - val_accuracy: 0.8300\n",
      "Epoch 58/100\n",
      "25/25 [==============================] - 0s 14ms/step - loss: 0.6020 - accuracy: 0.8037 - val_loss: 0.5950 - val_accuracy: 0.8300\n",
      "Epoch 59/100\n",
      "25/25 [==============================] - 0s 12ms/step - loss: 0.5988 - accuracy: 0.8087 - val_loss: 0.5914 - val_accuracy: 0.8300\n",
      "Epoch 60/100\n",
      "25/25 [==============================] - 0s 13ms/step - loss: 0.5957 - accuracy: 0.8075 - val_loss: 0.5888 - val_accuracy: 0.8350\n",
      "Epoch 61/100\n",
      "25/25 [==============================] - 0s 19ms/step - loss: 0.5927 - accuracy: 0.8062 - val_loss: 0.5859 - val_accuracy: 0.8350\n",
      "Epoch 62/100\n",
      "25/25 [==============================] - 0s 8ms/step - loss: 0.5895 - accuracy: 0.8087 - val_loss: 0.5825 - val_accuracy: 0.8350\n",
      "Epoch 63/100\n",
      "25/25 [==============================] - 0s 12ms/step - loss: 0.5864 - accuracy: 0.8062 - val_loss: 0.5789 - val_accuracy: 0.8350\n",
      "Epoch 64/100\n",
      "25/25 [==============================] - 0s 11ms/step - loss: 0.5832 - accuracy: 0.8075 - val_loss: 0.5757 - val_accuracy: 0.8350\n",
      "Epoch 65/100\n",
      "25/25 [==============================] - 0s 9ms/step - loss: 0.5801 - accuracy: 0.8125 - val_loss: 0.5728 - val_accuracy: 0.8400\n",
      "Epoch 66/100\n",
      "25/25 [==============================] - 0s 12ms/step - loss: 0.5768 - accuracy: 0.8150 - val_loss: 0.5692 - val_accuracy: 0.8400\n",
      "Epoch 67/100\n",
      "25/25 [==============================] - 0s 13ms/step - loss: 0.5736 - accuracy: 0.8150 - val_loss: 0.5660 - val_accuracy: 0.8400\n",
      "Epoch 68/100\n",
      "25/25 [==============================] - 0s 10ms/step - loss: 0.5703 - accuracy: 0.8188 - val_loss: 0.5626 - val_accuracy: 0.8400\n",
      "Epoch 69/100\n",
      "25/25 [==============================] - 0s 11ms/step - loss: 0.5670 - accuracy: 0.8250 - val_loss: 0.5595 - val_accuracy: 0.8350\n",
      "Epoch 70/100\n",
      "25/25 [==============================] - 0s 8ms/step - loss: 0.5637 - accuracy: 0.8250 - val_loss: 0.5557 - val_accuracy: 0.8400\n",
      "Epoch 71/100\n",
      "25/25 [==============================] - 0s 9ms/step - loss: 0.5605 - accuracy: 0.8263 - val_loss: 0.5532 - val_accuracy: 0.8450\n",
      "Epoch 72/100\n",
      "25/25 [==============================] - 0s 12ms/step - loss: 0.5569 - accuracy: 0.8263 - val_loss: 0.5490 - val_accuracy: 0.8450\n",
      "Epoch 73/100\n",
      "25/25 [==============================] - 0s 9ms/step - loss: 0.5538 - accuracy: 0.8288 - val_loss: 0.5460 - val_accuracy: 0.8450\n",
      "Epoch 74/100\n",
      "25/25 [==============================] - 0s 12ms/step - loss: 0.5502 - accuracy: 0.8300 - val_loss: 0.5422 - val_accuracy: 0.8450\n",
      "Epoch 75/100\n",
      "25/25 [==============================] - 0s 8ms/step - loss: 0.5468 - accuracy: 0.8325 - val_loss: 0.5385 - val_accuracy: 0.8500\n",
      "Epoch 76/100\n",
      "25/25 [==============================] - 0s 9ms/step - loss: 0.5435 - accuracy: 0.8275 - val_loss: 0.5347 - val_accuracy: 0.8450\n",
      "Epoch 77/100\n",
      "25/25 [==============================] - 0s 10ms/step - loss: 0.5400 - accuracy: 0.8338 - val_loss: 0.5316 - val_accuracy: 0.8500\n",
      "Epoch 78/100\n",
      "25/25 [==============================] - 0s 9ms/step - loss: 0.5365 - accuracy: 0.8363 - val_loss: 0.5277 - val_accuracy: 0.8550\n",
      "Epoch 79/100\n",
      "25/25 [==============================] - 0s 10ms/step - loss: 0.5330 - accuracy: 0.8363 - val_loss: 0.5240 - val_accuracy: 0.8600\n",
      "Epoch 80/100\n",
      "25/25 [==============================] - 0s 8ms/step - loss: 0.5296 - accuracy: 0.8400 - val_loss: 0.5203 - val_accuracy: 0.8650\n",
      "Epoch 81/100\n",
      "25/25 [==============================] - 0s 11ms/step - loss: 0.5260 - accuracy: 0.8413 - val_loss: 0.5169 - val_accuracy: 0.8650\n",
      "Epoch 82/100\n",
      "25/25 [==============================] - 0s 8ms/step - loss: 0.5225 - accuracy: 0.8438 - val_loss: 0.5134 - val_accuracy: 0.8700\n",
      "Epoch 83/100\n",
      "25/25 [==============================] - 0s 10ms/step - loss: 0.5192 - accuracy: 0.8450 - val_loss: 0.5093 - val_accuracy: 0.8700\n",
      "Epoch 84/100\n",
      "25/25 [==============================] - 0s 10ms/step - loss: 0.5155 - accuracy: 0.8512 - val_loss: 0.5064 - val_accuracy: 0.8700\n",
      "Epoch 85/100\n",
      "25/25 [==============================] - 0s 8ms/step - loss: 0.5118 - accuracy: 0.8537 - val_loss: 0.5029 - val_accuracy: 0.8650\n",
      "Epoch 86/100\n",
      "25/25 [==============================] - 0s 7ms/step - loss: 0.5083 - accuracy: 0.8537 - val_loss: 0.4988 - val_accuracy: 0.8700\n",
      "Epoch 87/100\n",
      "25/25 [==============================] - 0s 10ms/step - loss: 0.5047 - accuracy: 0.8612 - val_loss: 0.4956 - val_accuracy: 0.8650\n",
      "Epoch 88/100\n",
      "25/25 [==============================] - 0s 7ms/step - loss: 0.5011 - accuracy: 0.8612 - val_loss: 0.4913 - val_accuracy: 0.8700\n",
      "Epoch 89/100\n",
      "25/25 [==============================] - 0s 7ms/step - loss: 0.4973 - accuracy: 0.8637 - val_loss: 0.4878 - val_accuracy: 0.8750\n",
      "Epoch 90/100\n",
      "25/25 [==============================] - 0s 8ms/step - loss: 0.4938 - accuracy: 0.8637 - val_loss: 0.4835 - val_accuracy: 0.8750\n",
      "Epoch 91/100\n",
      "25/25 [==============================] - 0s 10ms/step - loss: 0.4902 - accuracy: 0.8725 - val_loss: 0.4804 - val_accuracy: 0.8800\n",
      "Epoch 92/100\n",
      "25/25 [==============================] - 0s 8ms/step - loss: 0.4864 - accuracy: 0.8750 - val_loss: 0.4763 - val_accuracy: 0.8850\n",
      "Epoch 93/100\n",
      "25/25 [==============================] - 0s 7ms/step - loss: 0.4827 - accuracy: 0.8800 - val_loss: 0.4724 - val_accuracy: 0.8850\n",
      "Epoch 94/100\n",
      "25/25 [==============================] - 0s 11ms/step - loss: 0.4790 - accuracy: 0.8863 - val_loss: 0.4688 - val_accuracy: 0.8850\n",
      "Epoch 95/100\n",
      "25/25 [==============================] - 0s 8ms/step - loss: 0.4753 - accuracy: 0.8863 - val_loss: 0.4651 - val_accuracy: 0.8850\n",
      "Epoch 96/100\n",
      "25/25 [==============================] - 0s 17ms/step - loss: 0.4716 - accuracy: 0.8938 - val_loss: 0.4614 - val_accuracy: 0.8850\n",
      "Epoch 97/100\n",
      "25/25 [==============================] - 0s 7ms/step - loss: 0.4680 - accuracy: 0.8938 - val_loss: 0.4573 - val_accuracy: 0.8850\n",
      "Epoch 98/100\n",
      "25/25 [==============================] - 0s 8ms/step - loss: 0.4642 - accuracy: 0.8963 - val_loss: 0.4538 - val_accuracy: 0.8850\n",
      "Epoch 99/100\n",
      "25/25 [==============================] - 0s 7ms/step - loss: 0.4605 - accuracy: 0.9025 - val_loss: 0.4500 - val_accuracy: 0.8850\n",
      "Epoch 100/100\n",
      "25/25 [==============================] - 0s 8ms/step - loss: 0.4568 - accuracy: 0.9087 - val_loss: 0.4463 - val_accuracy: 0.8850\n"
     ]
    }
   ],
   "source": [
    "# Entrenar el modelo\n",
    "\n",
    "# aplicar el modelo a los datos de entrenamiento\n",
    "history = model.fit(X_train, y_train, epochs=100, batch_size=32, validation_data=(X_test, y_test))"
   ]
  },
  {
   "cell_type": "code",
   "execution_count": 21,
   "id": "76d14031-a43a-415e-b474-ed02038223b1",
   "metadata": {},
   "outputs": [
    {
     "name": "stdout",
     "output_type": "stream",
     "text": [
      "7/7 [==============================] - 0s 5ms/step - loss: 0.4463 - accuracy: 0.8850\n",
      "Loss: 0.44631630182266235, Accuracy: 0.8849999904632568\n"
     ]
    }
   ],
   "source": [
    "# Evaluar el modelo en el conjunto de prueba\n",
    "loss, accuracy = model.evaluate(X_test, y_test)\n",
    "print(f'Loss: {loss}, Accuracy: {accuracy}')"
   ]
  },
  {
   "cell_type": "code",
   "execution_count": 22,
   "id": "0c836f6d-56b8-4fca-a166-c6cfe1152cfb",
   "metadata": {},
   "outputs": [
    {
     "data": {
      "image/png": "[encoded data removed]",
      "text/plain": [
       "<Figure size 640x480 with 1 Axes>"
      ]
     },
     "metadata": {},
     "output_type": "display_data"
    }
   ],
   "source": [
    "# Visualizar la precisión del modelo durante el entrenamiento\n",
    "plt.plot(history.history['accuracy'], label='Train Accuracy')\n",
    "plt.plot(history.history['val_accuracy'], label='Validation Accuracy')\n",
    "plt.xlabel('Epochs')\n",
    "plt.ylabel('Accuracy')\n",
    "plt.legend()\n",
    "plt.show()"
   ]
  },
  {
   "cell_type": "markdown",
   "id": "f156a5e1-de06-4ea8-8107-4ad42f1f4979",
   "metadata": {},
   "source": [
    "El desempeño del modelo es bueno tanto en los datos de entrenamiento como en los datos de prueba, siendo ligeramente mayor para estos últimos datos. Lo cual, es bastante bueno"
   ]
  },
  {
   "cell_type": "code",
   "execution_count": null,
   "id": "bd164253-f23f-4bb6-91e1-2da0f42fccd9",
   "metadata": {},
   "outputs": [],
   "source": []
  }
 ],
 "metadata": {
  "kernelspec": {
   "display_name": "Python 3 (ipykernel)",
   "language": "python",
   "name": "python3"
  },
  "language_info": {
   "codemirror_mode": {
    "name": "ipython",
    "version": 3
   },
   "file_extension": ".py",
   "mimetype": "text/x-python",
   "name": "python",
   "nbconvert_exporter": "python",
   "pygments_lexer": "ipython3",
   "version": "3.10.9"
  }
 },
 "nbformat": 4,
 "nbformat_minor": 5
}
